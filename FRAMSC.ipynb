{
 "cells": [
  {
   "cell_type": "code",
   "execution_count": 1,
   "metadata": {
    "ExecuteTime": {
     "end_time": "2021-03-13T09:00:39.776069Z",
     "start_time": "2021-03-13T09:00:39.721041Z"
    },
    "slideshow": {
     "slide_type": "skip"
    }
   },
   "outputs": [
    {
     "data": {
      "text/html": [
       "<script>\n",
       "code_show=true; \n",
       "function code_toggle() {\n",
       " if (code_show){\n",
       " $('div.input').hide();\n",
       " } else {\n",
       " $('div.input').show();\n",
       " }\n",
       " code_show = !code_show\n",
       "} \n",
       "$( document ).ready(code_toggle);\n",
       "</script>\n",
       "<form action=\"javascript:code_toggle()\"><input type=\"submit\" value=\"Click here to toggle on/off the raw code.\"></form>"
      ],
      "text/plain": [
       "<IPython.core.display.HTML object>"
      ]
     },
     "execution_count": 1,
     "metadata": {},
     "output_type": "execute_result"
    }
   ],
   "source": [
    "from IPython.display import HTML\n",
    "\n",
    "HTML('''<script>\n",
    "code_show=true; \n",
    "function code_toggle() {\n",
    " if (code_show){\n",
    " $('div.input').hide();\n",
    " } else {\n",
    " $('div.input').show();\n",
    " }\n",
    " code_show = !code_show\n",
    "} \n",
    "$( document ).ready(code_toggle);\n",
    "</script>\n",
    "<form action=\"javascript:code_toggle()\"><input type=\"submit\" value=\"Click here to toggle on/off the raw code.\"></form>''')"
   ]
  },
  {
   "cell_type": "code",
   "execution_count": 2,
   "metadata": {
    "ExecuteTime": {
     "end_time": "2021-03-13T09:00:39.795228Z",
     "start_time": "2021-03-13T09:00:39.783596Z"
    },
    "slideshow": {
     "slide_type": "skip"
    }
   },
   "outputs": [],
   "source": [
    "# !pip install  tensorflow upgrade"
   ]
  },
  {
   "cell_type": "code",
   "execution_count": 3,
   "metadata": {
    "ExecuteTime": {
     "end_time": "2021-03-13T09:00:49.423651Z",
     "start_time": "2021-03-13T09:00:39.807691Z"
    },
    "slideshow": {
     "slide_type": "skip"
    }
   },
   "outputs": [],
   "source": [
    "import numpy as np\n",
    "import tensorflow as tf\n",
    "import scipy.io as sio\n",
    "from tensorflow.random import set_seed\n",
    "from ipywidgets import interact   #interactive plot\n",
    "import ipywidgets as widgets\n",
    "import matplotlib.pyplot as plt"
   ]
  },
  {
   "cell_type": "code",
   "execution_count": 4,
   "metadata": {
    "ExecuteTime": {
     "end_time": "2021-03-13T09:00:49.440606Z",
     "start_time": "2021-03-13T09:00:49.426901Z"
    },
    "slideshow": {
     "slide_type": "skip"
    }
   },
   "outputs": [
    {
     "data": {
      "text/html": [
       "<style>.container { width:95% !important; }</style>"
      ],
      "text/plain": [
       "<IPython.core.display.HTML object>"
      ]
     },
     "metadata": {},
     "output_type": "display_data"
    },
    {
     "data": {
      "text/plain": [
       "(None,)"
      ]
     },
     "execution_count": 4,
     "metadata": {},
     "output_type": "execute_result"
    }
   ],
   "source": [
    "from IPython.display import HTML, display\n",
    "display(HTML(\"<style>.container { width:95% !important; }</style>\")),  "
   ]
  },
  {
   "cell_type": "code",
   "execution_count": 5,
   "metadata": {
    "ExecuteTime": {
     "end_time": "2021-03-13T09:00:49.464146Z",
     "start_time": "2021-03-13T09:00:49.445955Z"
    },
    "slideshow": {
     "slide_type": "skip"
    }
   },
   "outputs": [],
   "source": [
    "#######################################\n",
    "#define the activation function\n",
    "def rbf(x):\n",
    "    return tf.math.exp(-x**2)\n",
    "\n",
    "#######################################\n",
    "#define the derivative of the activation function\n",
    "def d_rbf(x):\n",
    "    return tf.gradients(rbf,x)\n",
    "\n",
    "#######################a################\n",
    "#we couldn't use “tf_d_leaky_relu_6” as an activation function if we wanted to \n",
    "#because tensorflow doesn't know how to calculate the gradients of that function.\n",
    "def rbf_grad(op, grad):\n",
    "    x = op.inputs[0]\n",
    "    n_gr = d_rbf(x)    #defining the gradient.\n",
    "    return grad * n_gr\n",
    "\n",
    "def py_func(func, inp, Tout, stateful=True, name=None, grad=None):\n",
    "    # Need to generate a unique name to avoid duplicates:\n",
    "    rnd_name = 'PyFuncGrad' + str(np.random.randint(0, 1E+2))\n",
    "    tf.RegisterGradient(rnd_name)(grad)\n",
    "    g = tf.get_default_graph()\n",
    "    with g.gradient_override_map({\"PyFunc\": rnd_name, \"PyFuncStateless\": rnd_name}):\n",
    "#     with g.gradient_override_map({\"PyFunc\": rnd_name}):\n",
    "        return tf.py_func(func, inp, Tout, stateful=stateful, name=name)\n",
    "    \n",
    "def tf_rbf(x,name=None):\n",
    "    with tf.name_scope(name, \"rbf\", [x]) as name:\n",
    "        y = py_func(rbf,   #forward pass function\n",
    "                    [x],\n",
    "                    [tf.float32],\n",
    "                    name=name,\n",
    "                    grad= rbf_grad) #the function that overrides gradient\n",
    "        y[0].set_shape(x.get_shape())     #when using with the code, it is used to specify the rank of the input.\n",
    "    return y[0]"
   ]
  },
  {
   "cell_type": "markdown",
   "metadata": {
    "slideshow": {
     "slide_type": "slide"
    }
   },
   "source": [
    "![framsc](framsc.png)"
   ]
  },
  {
   "cell_type": "markdown",
   "metadata": {
    "slideshow": {
     "slide_type": "slide"
    }
   },
   "source": [
    "<center> \n",
    "    \n",
    "![relation](relation.png)\n",
    "</center>\n",
    "\n",
    "[Link](https://pub.towardsai.net/building-neural-networks-from-scratch-with-python-code-and-math-in-detail-i-536fae5d7bbf)"
   ]
  },
  {
   "cell_type": "markdown",
   "metadata": {
    "slideshow": {
     "slide_type": "slide"
    }
   },
   "source": [
    "# What is a Neural Network?"
   ]
  },
  {
   "cell_type": "markdown",
   "metadata": {
    "slideshow": {
     "slide_type": "fragment"
    }
   },
   "source": [
    " <font size=\"5\">Artificial neural networks (ANNs), usually simply called neural networks (NNs), are computing systems vaguely inspired by the biological neural networks that constitute animal brains.</font> (From Wikipedia)"
   ]
  },
  {
   "cell_type": "markdown",
   "metadata": {
    "slideshow": {
     "slide_type": "slide"
    }
   },
   "source": [
    "![1layer](1layer.png)\n",
    "\n",
    " <font size=\"5\">\n",
    "A neural network with one hidden layer and $n$ hidden neurons when the input is $(x_1, x_2, \\ldots, x_m)\\in\\mathbb{R}^m$:\n",
    "\n",
    "\\begin{eqnarray*}\n",
    "N (x_1, x_2, \\ldots, x_m) = \\sum_{i=1}^n \\omega_i\\, \\varphi \\left( \\sum_{j=1}^m a_{ji}x_j + b_i\\right)+ h,\n",
    "\\end{eqnarray*}\n",
    "\n",
    "Neural network with more than one hidden layers can be defined in the same pattern repetitively for the following layers."
   ]
  },
  {
   "cell_type": "markdown",
   "metadata": {
    "slideshow": {
     "slide_type": "slide"
    }
   },
   "source": [
    "# Universal Approximation Theorem\n",
    "\n",
    "\n",
    " <font size=\"5\"> The standard one single hidden layer feed-forward networks with a finite number of hidden neurons, and with an arbitrary activation function, are universal approximators in $C(\\mathbb{R}^m)$. </font>\n",
    "\n",
    "[***Balázs Csanád Csáji (2001) Approximation with Artificial Neural Networks; Faculty of Sciences; Eötvös Loránd University, Hungary***](https://citeseerx.ist.psu.edu/viewdoc/download?doi=10.1.1.101.2647&rep=rep1&type=pdf)"
   ]
  },
  {
   "cell_type": "markdown",
   "metadata": {
    "slideshow": {
     "slide_type": "slide"
    }
   },
   "source": [
    "# Architecture of the hidden layers"
   ]
  },
  {
   "cell_type": "markdown",
   "metadata": {
    "slideshow": {
     "slide_type": "slide"
    }
   },
   "source": [
    "## Component 1 - Activation function"
   ]
  },
  {
   "cell_type": "code",
   "execution_count": 6,
   "metadata": {
    "ExecuteTime": {
     "end_time": "2021-03-13T09:00:50.173277Z",
     "start_time": "2021-03-13T09:00:49.469889Z"
    },
    "slideshow": {
     "slide_type": "fragment"
    }
   },
   "outputs": [
    {
     "data": {
      "image/png": "[encoded data removed]",
      "text/plain": [
       "<Figure size 1080x360 with 3 Axes>"
      ]
     },
     "metadata": {
      "needs_background": "light"
     },
     "output_type": "display_data"
    }
   ],
   "source": [
    "plt.figure(figsize=(15,5))\n",
    "plt.subplot(131)\n",
    "x = np.linspace(-5,5,100)\n",
    "y1 = [max(i,0) for i in x]\n",
    "plt.plot(x,y1,linewidth=3)\n",
    "plt.title('ReLU',fontsize=20);\n",
    "plt.subplot(132)\n",
    "y2 = 1/(1+np.exp(-x))\n",
    "plt.plot(x,y2,linewidth=3)\n",
    "plt.title('Sigmoid',fontsize=20);\n",
    "plt.subplot(133)\n",
    "y3 = np.exp(-x**2)\n",
    "plt.plot(x,y3,linewidth=3)\n",
    "plt.title('RBF',fontsize=20);"
   ]
  },
  {
   "cell_type": "code",
   "execution_count": 7,
   "metadata": {
    "ExecuteTime": {
     "end_time": "2021-03-13T09:00:50.181644Z",
     "start_time": "2021-03-13T09:00:50.176069Z"
    },
    "slideshow": {
     "slide_type": "fragment"
    }
   },
   "outputs": [
    {
     "name": "stdout",
     "output_type": "stream",
     "text": [
      "Computationally efficient     Smooth gradient          Smooth gradient\n",
      "\n",
      "Dying ReLU                  Vanishing gradient       Classification is slow\n"
     ]
    }
   ],
   "source": [
    "print('Computationally efficient' + ' '*5 + 'Smooth gradient' + ' '*10 + 'Smooth gradient')\n",
    "print()\n",
    "print('Dying ReLU' + ' '*18 + 'Vanishing gradient' + ' '*7 + 'Classification is slow')"
   ]
  },
  {
   "cell_type": "markdown",
   "metadata": {
    "slideshow": {
     "slide_type": "fragment"
    }
   },
   "source": [
    "Other: tanh, swish, leaky ReLU, ELU, softmax, etc. [Link](https://en.wikipedia.org/wiki/Activation_function)"
   ]
  },
  {
   "cell_type": "markdown",
   "metadata": {
    "slideshow": {
     "slide_type": "slide"
    }
   },
   "source": [
    "## Feature Scaling and Data Preprocessing"
   ]
  },
  {
   "cell_type": "markdown",
   "metadata": {
    "slideshow": {
     "slide_type": "fragment"
    }
   },
   "source": [
    "$$\n",
    "y = x^2\n",
    "$$\n",
    "\n",
    "- Without scaling:\n",
    "        x is from [-40, 40]\n",
    "        \n",
    "- With scaling:\n",
    "        x is from [-1,1]"
   ]
  },
  {
   "cell_type": "markdown",
   "metadata": {
    "slideshow": {
     "slide_type": "slide"
    }
   },
   "source": [
    "### Before "
   ]
  },
  {
   "cell_type": "code",
   "execution_count": 8,
   "metadata": {
    "ExecuteTime": {
     "end_time": "2021-03-13T09:01:00.578910Z",
     "start_time": "2021-03-13T09:00:50.194634Z"
    },
    "slideshow": {
     "slide_type": "skip"
    }
   },
   "outputs": [
    {
     "data": {
      "text/plain": [
       "<tensorflow.python.keras.callbacks.History at 0x7fcc42ccb7f0>"
      ]
     },
     "execution_count": 8,
     "metadata": {},
     "output_type": "execute_result"
    }
   ],
   "source": [
    "a = 40\n",
    "np.random.seed(1)\n",
    "listex = np.linspace(-a,a,100)\n",
    "listey = listex**2 + 0.1*np.random.normal(0, 1, len(listex)) \n",
    "\n",
    "set_seed(1)\n",
    "model_rbf = tf.keras.Sequential()\n",
    "model_rbf.add(tf.keras.layers.Dense(5,activation=rbf))\n",
    "model_rbf.add(tf.keras.layers.Dense(1))\n",
    "# model.metrics_names\n",
    "\n",
    "model_rbf.compile(loss='mean_squared_error', optimizer=tf.keras.optimizers.Adam(0.1))\n",
    "model_rbf.fit(listex,listey, epochs=1000, verbose=0)\n",
    "\n",
    "# model.summary()\n",
    "# model_rbf.get_weights()\n",
    "\n",
    "set_seed(1)\n",
    "model_relu = tf.keras.Sequential()\n",
    "model_relu.add(tf.keras.layers.Dense(5,activation='relu'))\n",
    "model_relu.add(tf.keras.layers.Dense(1))\n",
    "# model.metrics_names\n",
    "\n",
    "model_relu.compile(loss='mean_squared_error', optimizer=tf.keras.optimizers.Adam(0.01))\n",
    "model_relu.fit(listex,listey, epochs=1500, verbose=0)\n",
    "\n",
    "# model_relu.get_weights()"
   ]
  },
  {
   "cell_type": "code",
   "execution_count": 9,
   "metadata": {
    "ExecuteTime": {
     "end_time": "2021-03-13T09:01:11.153779Z",
     "start_time": "2021-03-13T09:01:00.586880Z"
    },
    "slideshow": {
     "slide_type": "skip"
    }
   },
   "outputs": [],
   "source": [
    "preds_rbf = []\n",
    "# preds = []\n",
    "preds_relu = []\n",
    "size = 100\n",
    "for j in np.linspace(-a,a,size):\n",
    "    preds_rbf.append(model_rbf.predict([j]))\n",
    "#     preds.append(model.predict([j]))\n",
    "    preds_relu.append(model_relu.predict([j]))"
   ]
  },
  {
   "cell_type": "code",
   "execution_count": 29,
   "metadata": {
    "ExecuteTime": {
     "end_time": "2021-03-13T16:34:55.356453Z",
     "start_time": "2021-03-13T16:34:54.453014Z"
    },
    "slideshow": {
     "slide_type": "fragment"
    }
   },
   "outputs": [
    {
     "data": {
      "image/png": "[encoded data removed]",
      "text/plain": [
       "<Figure size 720x504 with 1 Axes>"
      ]
     },
     "metadata": {
      "needs_background": "light"
     },
     "output_type": "display_data"
    }
   ],
   "source": [
    "fig, ax = plt.subplots()\n",
    "fig.set_size_inches(10, 7)\n",
    "plt.xticks(fontsize=13, rotation=0)\n",
    "plt.yticks(fontsize=13, rotation=0)\n",
    "plt.xlabel('input',fontsize=20)\n",
    "plt.ylabel(\"output\",fontsize=20)\n",
    "plt.scatter(listex, listey, s=20, marker='v',color='g', label=\"Training\")     #size of point\n",
    "plt.scatter(np.linspace(-a,a,size), np.array(preds_rbf), s=10, marker='p', color='r', label=\"Predict(RBF)\")\n",
    "# plt.scatter(np.linspace(-a,a,size), preds, s=2, label=\"predictions\")\n",
    "# plt.scatter(np.linspace(-a,a,size), np.array(preds_relu), s=10, marker='s', color='blue', label=\"Predict(ReLU)\")\n",
    "plt.legend(prop={'size': 12});"
   ]
  },
  {
   "cell_type": "markdown",
   "metadata": {
    "slideshow": {
     "slide_type": "slide"
    }
   },
   "source": [
    "### After"
   ]
  },
  {
   "cell_type": "code",
   "execution_count": 11,
   "metadata": {
    "ExecuteTime": {
     "end_time": "2021-03-13T09:01:28.391897Z",
     "start_time": "2021-03-13T09:01:11.453542Z"
    },
    "slideshow": {
     "slide_type": "skip"
    }
   },
   "outputs": [
    {
     "data": {
      "text/plain": [
       "<tensorflow.python.keras.callbacks.History at 0x7fcc44d3ce48>"
      ]
     },
     "execution_count": 11,
     "metadata": {},
     "output_type": "execute_result"
    }
   ],
   "source": [
    "a = 40\n",
    "np.random.seed(1)\n",
    "listex2 = np.linspace(-1,1,200)\n",
    "listey2 = ((a*listex2)**2 + 0.1*np.random.normal(0, 1, len(listex2)) )/a**2\n",
    "\n",
    "set_seed(1)\n",
    "model_rbf2 = tf.keras.Sequential()\n",
    "model_rbf2.add(tf.keras.layers.Dense(5,activation=rbf))\n",
    "model_rbf2.add(tf.keras.layers.Dense(1))\n",
    "\n",
    "# model.metrics_names\n",
    "model_rbf2.compile(loss='mean_squared_error', optimizer=tf.keras.optimizers.Adam(0.1))\n",
    "model_rbf2.fit(listex2,listey2, epochs=1000, verbose=0)\n",
    "\n",
    "# model.summary()\n",
    "# model_rbf2.get_weights()\n",
    "\n",
    "set_seed(1)\n",
    "model_relu2 = tf.keras.Sequential()\n",
    "model_relu2.add(tf.keras.layers.Dense(5,activation='relu'))\n",
    "model_relu2.add(tf.keras.layers.Dense(1))\n",
    "# model.metrics_names\n",
    "\n",
    "model_relu2.compile(loss='mean_squared_error', optimizer=tf.keras.optimizers.Adam(0.01))\n",
    "model_relu2.fit(listex2,listey2, epochs=1500, verbose=0)\n",
    "\n",
    "# model_relu.get_weights()"
   ]
  },
  {
   "cell_type": "code",
   "execution_count": 12,
   "metadata": {
    "ExecuteTime": {
     "end_time": "2021-03-13T09:01:39.404953Z",
     "start_time": "2021-03-13T09:01:28.395559Z"
    },
    "slideshow": {
     "slide_type": "skip"
    }
   },
   "outputs": [],
   "source": [
    "preds_rbf2 = []\n",
    "# preds = []\n",
    "preds_relu2 = []\n",
    "size = 100\n",
    "x = np.linspace(-1,1,size)\n",
    "for j in x:\n",
    "    preds_rbf2.append(model_rbf2.predict([j]))\n",
    "#     preds.append(model.predict([j]))\n",
    "    preds_relu2.append(model_relu2.predict([j]))"
   ]
  },
  {
   "cell_type": "code",
   "execution_count": 30,
   "metadata": {
    "ExecuteTime": {
     "end_time": "2021-03-13T16:35:09.684589Z",
     "start_time": "2021-03-13T16:35:09.331485Z"
    },
    "slideshow": {
     "slide_type": "fragment"
    }
   },
   "outputs": [
    {
     "data": {
      "image/png": "[encoded data removed]",
      "text/plain": [
       "<Figure size 720x504 with 1 Axes>"
      ]
     },
     "metadata": {
      "needs_background": "light"
     },
     "output_type": "display_data"
    }
   ],
   "source": [
    "fig, ax = plt.subplots()\n",
    "fig.set_size_inches(10, 7)\n",
    "plt.xticks(fontsize=13, rotation=0)\n",
    "plt.yticks(fontsize=13, rotation=0)\n",
    "plt.xlabel('input',fontsize=20)\n",
    "plt.ylabel(\"output\",fontsize=20)\n",
    "plt.scatter(a*listex2, a**2*listey2, s=20, marker='v',color='g', label=\"Training\")     #size of point\n",
    "plt.scatter(np.linspace(-a,a,size), a**2*np.array(preds_rbf2), s=10, marker='p', color='r', label=\"Predict(RBF)\")\n",
    "# plt.scatter(np.linspace(-a,a,size), preds, s=2, label=\"predictions\")\n",
    "# plt.scatter(np.linspace(-a,a,size), a**2*np.array(preds_relu2), s=10, marker='s', color='blue', label=\"Predict(ReLU)\")\n",
    "plt.legend(prop={'size': 12});"
   ]
  },
  {
   "cell_type": "markdown",
   "metadata": {
    "slideshow": {
     "slide_type": "slide"
    }
   },
   "source": [
    "## Component 2 - Number of hidden neurons"
   ]
  },
  {
   "cell_type": "markdown",
   "metadata": {
    "slideshow": {
     "slide_type": "fragment"
    }
   },
   "source": [
    "### Decision from visualization"
   ]
  },
  {
   "cell_type": "markdown",
   "metadata": {
    "slideshow": {
     "slide_type": "slide"
    }
   },
   "source": [
    "![1layer](1layer.png)"
   ]
  },
  {
   "cell_type": "markdown",
   "metadata": {
    "slideshow": {
     "slide_type": "fragment"
    }
   },
   "source": [
    " <font size=\"5\">\n",
    "$$\n",
    "N(x_1,\\ldots,x_3) = \\omega_1\\, \\varphi \\left( a_{11}x_1 + a_{21}x_2 + a_{31}x_3 + b_1\\right)+ \\omega_2\\, \\varphi \\left( a_{12}x_1 + a_{22}x_2 + a_{32}x_3 + b_2\\right)+ h\n",
    "$$"
   ]
  },
  {
   "cell_type": "markdown",
   "metadata": {
    "slideshow": {
     "slide_type": "slide"
    }
   },
   "source": [
    "#### Target function - (1)\n",
    "\n",
    "$$\n",
    "y = x^2\n",
    "$$\n",
    "\n",
    "##### Activation: ReLU"
   ]
  },
  {
   "cell_type": "code",
   "execution_count": 14,
   "metadata": {
    "ExecuteTime": {
     "end_time": "2021-03-13T09:01:46.142739Z",
     "start_time": "2021-03-13T09:01:39.818763Z"
    },
    "slideshow": {
     "slide_type": "skip"
    }
   },
   "outputs": [],
   "source": [
    "a = 40\n",
    "np.random.seed(123)\n",
    "x_on1 = np.linspace(-1,1,100)\n",
    "y_on1 = x_on1**2 + 0.1*np.random.normal(0, 1, len(x_on1)) \n",
    "# listey = np.sin(np.pi*listex) + 0.1*np.random.normal(0, 1, len(listex)) \n",
    "\n",
    "num_neuron = 5\n",
    "set_seed(123)\n",
    "model_relu_on = tf.keras.Sequential()\n",
    "model_relu_on.add(tf.keras.layers.Dense(num_neuron,activation='relu'))\n",
    "model_relu_on.add(tf.keras.layers.Dense(1))\n",
    "# model.metrics_names\n",
    "\n",
    "model_relu_on.compile(loss='mean_squared_error', optimizer=tf.keras.optimizers.Adam(0.01))\n",
    "model_relu_on.fit(x_on1,y_on1, epochs=1500, verbose=0)\n",
    "\n",
    "# model_relu.get_weights()\n",
    "\n",
    "weight_relu_on = model_relu_on.get_weights()\n",
    "bdry_relu_on = []\n",
    "bdry1_relu_on = []\n",
    "for i in range(weight_relu_on[0].shape[1]):\n",
    "    val = -weight_relu_on[1][i]/weight_relu_on[0][0,i]\n",
    "    if weight_relu_on[0][0,i] >0:\n",
    "        bdry_relu_on.append((val,i))    #bdry.append((val,i,'left'))\n",
    "        bdry1_relu_on.append((val,i,'left'))     # left flat\n",
    "    else:\n",
    "        bdry_relu_on.append((val,i))    #bdry.append((val,i,'right'))\n",
    "        bdry1_relu_on.append((val,i,'right'))\n",
    "        \n",
    "bdry_arr_relu_on = np.array(sorted(bdry_relu_on))\n",
    "\n",
    "def piece(weight,i,x):\n",
    "    b1 = weight[1][i]\n",
    "    w1 = weight[0][0,i]\n",
    "    val = tf.keras.activations.relu(w1*x+b1).numpy()\n",
    "    return (weight[2][i])*val"
   ]
  },
  {
   "cell_type": "code",
   "execution_count": 15,
   "metadata": {
    "ExecuteTime": {
     "end_time": "2021-03-13T09:01:52.155218Z",
     "start_time": "2021-03-13T09:01:46.145428Z"
    },
    "slideshow": {
     "slide_type": "fragment"
    }
   },
   "outputs": [
    {
     "data": {
      "image/png": "[encoded data removed]",
      "text/plain": [
       "<Figure size 720x360 with 2 Axes>"
      ]
     },
     "metadata": {
      "needs_background": "light"
     },
     "output_type": "display_data"
    }
   ],
   "source": [
    "fig = plt.figure(figsize=(10,5))\n",
    "plt.subplot(121)\n",
    "x_rb = 1\n",
    "x_lb = -1\n",
    "for i in map(int,bdry_arr_relu_on[:,1]):\n",
    "    if bdry1_relu_on[i][-1] == 'left' and bdry1_relu_on[i][0]<x_rb: #activate part is in the interval\n",
    "        x = np.linspace(bdry1_relu_on[i][0],x_rb,20)\n",
    "        plt.plot(x, [piece(weight_relu_on,i,val) for val in x], label=str(i)+'th neuron', linewidth=4)\n",
    "    elif bdry1_relu_on[i][-1] == 'right' and bdry1_relu_on[i][0]>x_lb:\n",
    "        x = np.linspace(x_lb,bdry1_relu_on[i][0],20)\n",
    "        plt.plot(x, [piece(weight_relu_on,i,val) for val in x], label=str(i)+'th neuron', linewidth=4)\n",
    "\n",
    "plt.xlim(-1,1)\n",
    "plt.ylim(-0.5,1.5)\n",
    "plt.title('After Scaling',fontsize=15)\n",
    "plt.legend(prop={'size': 14});\n",
    "# for i in range(bdry_arr.shape[0]):\n",
    "#     if bdry_arr[i,0]>=-1 and bdry_arr[i,0] <=1:\n",
    "#         label = \"x{:n}={:.2f}\".format(bdry_arr[i,1],bdry_arr[i,0])\n",
    "#         plt.text(bdry_arr[i,0],0,label)\n",
    "        \n",
    "plt.subplot(122)\n",
    "preds_relu_on = []\n",
    "size = 100\n",
    "for j in np.linspace(-1,1,size):\n",
    "#     preds_rbf.append(model_rbf.predict([j]))\n",
    "#     preds.append(model.predict([j]))\n",
    "    preds_relu_on.append(model_relu_on.predict([j]))\n",
    "p = tf.reshape(tf.constant(preds_relu_on),len(preds_relu_on))\n",
    "error = tf.keras.losses.MSE(x_on1**2,p).numpy()\n",
    "plt.ylim(-0.5,1.5)\n",
    "plt.title('MSE=%.8f'%(error),fontsize=15)\n",
    "plt.scatter(x_on1, y_on1, s=40, label=\"trainings data\")     #size of point\n",
    "plt.scatter(np.linspace(-1,1,size), np.array(preds_relu_on), s=3, label=\"predictions (relu)\")\n",
    "plt.legend(prop={'size': 14});"
   ]
  },
  {
   "cell_type": "markdown",
   "metadata": {
    "slideshow": {
     "slide_type": "slide"
    }
   },
   "source": [
    "#### Target function - (1)\n",
    "\n",
    "$$\n",
    "y = x^2\n",
    "$$\n",
    "\n",
    "##### Activation: RBF"
   ]
  },
  {
   "cell_type": "code",
   "execution_count": 16,
   "metadata": {
    "ExecuteTime": {
     "end_time": "2021-03-13T09:01:58.447910Z",
     "start_time": "2021-03-13T09:01:52.158720Z"
    },
    "slideshow": {
     "slide_type": "skip"
    }
   },
   "outputs": [],
   "source": [
    "num_neuron = 5\n",
    "\n",
    "set_seed(123)\n",
    "model_rbf_on = tf.keras.Sequential()\n",
    "model_rbf_on.add(tf.keras.layers.Dense(num_neuron,activation=rbf))\n",
    "model_rbf_on.add(tf.keras.layers.Dense(1))\n",
    "# model.metrics_names\n",
    "\n",
    "model_rbf_on.compile(loss='mean_squared_error', optimizer=tf.keras.optimizers.Adam(0.01))\n",
    "model_rbf_on.fit(x_on1,y_on1, epochs=1500, verbose=0)\n",
    "\n",
    "weight_rbf_on = model_rbf_on.get_weights()\n",
    "bdry_rbf_on = []\n",
    "\n",
    "for i in range(weight_rbf_on[0].shape[1]):\n",
    "    val1 = (-2-weight_rbf_on[1][i])/weight_rbf_on[0][0,i]\n",
    "    val2 = (2-weight_rbf_on[1][i])/weight_rbf_on[0][0,i]\n",
    "    bdry_rbf_on.append((min(val1,val2),max(val1,val2)))    #bdry.append((val,i,'left'))\n",
    "        \n",
    "# bdry_arr = np.array(sorted(bdry))\n",
    "\n",
    "def overlap(interval1,interval2):\n",
    "    if max(interval1[0],interval2[0]) < min(interval1[1],interval2[1]):\n",
    "        return [max(interval1[0],interval2[0]), min(interval1[1],interval2[1])]\n",
    "    else:\n",
    "        return []\n",
    "    \n",
    "def piece_rbf(weight,i,x):\n",
    "    b1 = weight[1][i]\n",
    "    w1 = weight[0][0,i]\n",
    "    val = rbf(w1*x+b1).numpy()\n",
    "    return (weight[2][i])*val"
   ]
  },
  {
   "cell_type": "code",
   "execution_count": 17,
   "metadata": {
    "ExecuteTime": {
     "end_time": "2021-03-13T09:02:04.170736Z",
     "start_time": "2021-03-13T09:01:58.450709Z"
    },
    "slideshow": {
     "slide_type": "fragment"
    }
   },
   "outputs": [
    {
     "data": {
      "image/png": "[encoded data removed]",
      "text/plain": [
       "<Figure size 720x360 with 2 Axes>"
      ]
     },
     "metadata": {
      "needs_background": "light"
     },
     "output_type": "display_data"
    }
   ],
   "source": [
    "fig = plt.figure(figsize=(10,5))\n",
    "plt.subplot(121)\n",
    "for i in range(num_neuron):\n",
    "    interval = overlap([-1,1],bdry_rbf_on[i])\n",
    "    if len(interval)!=0:\n",
    "        x = np.linspace(interval[0],interval[1],20)\n",
    "        plt.plot(x, [piece_rbf(weight_rbf_on,i,val) for val in x], label=str(i)+'th neuron',linewidth=4)\n",
    "plt.xlim(-1,1)\n",
    "plt.ylim(-2,2)\n",
    "plt.title('After Scaling',fontsize=15)\n",
    "plt.legend(prop={'size': 10}); \n",
    "\n",
    "plt.subplot(122)\n",
    "preds_rbf_on = []\n",
    "size = 100\n",
    "for j in np.linspace(-1,1,size):\n",
    "    preds_rbf_on.append(model_rbf_on.predict([j]))\n",
    "p = tf.reshape(tf.constant(preds_rbf_on),len(preds_rbf_on))\n",
    "error_rbf_on = tf.keras.losses.MSE(x_on1**2,p).numpy()\n",
    "plt.title('MSE=%.8f'%(error_rbf_on),fontsize=15)\n",
    "plt.scatter(x_on1, y_on1, s=40, label=\"trainings data\")     #size of point\n",
    "plt.scatter(np.linspace(-1,1,size), np.array(preds_rbf_on), s=2, label=\"predictions (rbf)\")\n",
    "# plt.scatter(a*listex, a**2*listey, s=40, label=\"trainings data\")     #size of point\n",
    "# plt.scatter(np.linspace(-a,a,size), a**2*np.array(preds_rbf), s=2, label=\"predictions (rbf)\")\n",
    "# plt.ylim(-2,2)\n",
    "plt.legend(prop={'size': 14});"
   ]
  },
  {
   "cell_type": "markdown",
   "metadata": {
    "slideshow": {
     "slide_type": "slide"
    }
   },
   "source": [
    "#### Target function - (2)\n",
    "\n",
    "$$\n",
    "y = \\sin x\n",
    "$$\n",
    "\n",
    "##### Activation: ReLU"
   ]
  },
  {
   "cell_type": "code",
   "execution_count": 18,
   "metadata": {
    "ExecuteTime": {
     "end_time": "2021-03-13T09:02:04.184431Z",
     "start_time": "2021-03-13T09:02:04.175461Z"
    },
    "slideshow": {
     "slide_type": "skip"
    }
   },
   "outputs": [],
   "source": [
    "np.random.seed(123)\n",
    "x_on2 = np.linspace(-1,1,100)\n",
    "# listey = listex**2 + 0.1*np.random.normal(0, 1, len(listex)) \n",
    "y_on2 = np.sin(np.pi*x_on2) + 0.1*np.random.normal(0, 1, len(x_on2)) "
   ]
  },
  {
   "cell_type": "code",
   "execution_count": 19,
   "metadata": {
    "ExecuteTime": {
     "end_time": "2021-03-13T09:02:10.752863Z",
     "start_time": "2021-03-13T09:02:04.190263Z"
    },
    "slideshow": {
     "slide_type": "skip"
    }
   },
   "outputs": [],
   "source": [
    "num_neuron = 5\n",
    "set_seed(32624)\n",
    "model_relu_sin = tf.keras.Sequential()\n",
    "model_relu_sin.add(tf.keras.layers.Dense(num_neuron,activation='relu'))\n",
    "model_relu_sin.add(tf.keras.layers.Dense(1))\n",
    "# model.metrics_names\n",
    "\n",
    "model_relu_sin.compile(loss='mean_squared_error', optimizer=tf.keras.optimizers.Adam(0.01))\n",
    "model_relu_sin.fit(x_on2,y_on2, epochs=1500, verbose=0)\n",
    "\n",
    "# model_relu.get_weights()\n",
    "\n",
    "weight_sin = model_relu_sin.get_weights()\n",
    "bdry_sin = []\n",
    "bdry1_sin = []\n",
    "for i in range(weight_sin[0].shape[1]):\n",
    "    val = -weight_sin[1][i]/weight_sin[0][0,i]\n",
    "    if weight_sin[0][0,i] >0:\n",
    "        bdry_sin.append((val,i))    #bdry.append((val,i,'left'))\n",
    "        bdry1_sin.append((val,i,'left'))     # left flat\n",
    "    else:\n",
    "        bdry_sin.append((val,i))    #bdry.append((val,i,'right'))\n",
    "        bdry1_sin.append((val,i,'right'))\n",
    "        \n",
    "bdry_arr_sin = np.array(sorted(bdry_sin))\n",
    "\n",
    "def piece(weight,i,x):\n",
    "    b1 = weight[1][i]\n",
    "    w1 = weight[0][0,i]\n",
    "    val = tf.keras.activations.relu(w1*x+b1).numpy()\n",
    "    return (weight[2][i])*val"
   ]
  },
  {
   "cell_type": "code",
   "execution_count": 20,
   "metadata": {
    "ExecuteTime": {
     "end_time": "2021-03-13T09:02:17.723944Z",
     "start_time": "2021-03-13T09:02:10.755863Z"
    },
    "slideshow": {
     "slide_type": "fragment"
    }
   },
   "outputs": [
    {
     "data": {
      "image/png": "[encoded data removed]",
      "text/plain": [
       "<Figure size 720x360 with 2 Axes>"
      ]
     },
     "metadata": {
      "needs_background": "light"
     },
     "output_type": "display_data"
    }
   ],
   "source": [
    "fig = plt.figure(figsize=(10,5))\n",
    "plt.subplot(121)\n",
    "x_rb = 1\n",
    "x_lb = -1\n",
    "for i in map(int,bdry_arr_sin[:,1]):\n",
    "    if bdry1_sin[i][-1] == 'left' and bdry1_sin[i][0]<x_rb: #activate part is in the interval\n",
    "        x = np.linspace(bdry1_sin[i][0],x_rb,20)\n",
    "        plt.plot(x, [piece(weight_sin,i,val) for val in x], label=str(i)+'th neuron', linewidth=4)\n",
    "    elif bdry1_sin[i][-1] == 'right' and bdry1_sin[i][0]>x_lb:\n",
    "        x = np.linspace(x_lb,bdry1_sin[i][0],20)\n",
    "        plt.plot(x, [piece(weight_sin,i,val) for val in x], label=str(i)+'th neuron', linewidth=4)\n",
    "\n",
    "plt.xlim(-1,1)\n",
    "plt.ylim(-1.5,1.5)\n",
    "plt.title('After Scaling',fontsize=15)\n",
    "plt.legend(prop={'size': 14});\n",
    "\n",
    "\n",
    "plt.subplot(122)\n",
    "preds_relu_sin = []\n",
    "size = 100\n",
    "for j in np.linspace(-1,1,size):\n",
    "    preds_relu_sin.append(model_relu_sin.predict([j]))\n",
    "p = tf.reshape(tf.constant(preds_relu_sin),len(preds_relu_sin))\n",
    "error = tf.keras.losses.MSE(np.sin(np.pi*x_on2),p).numpy()\n",
    "plt.title('MSE=%.8f'%(error),fontsize=15)\n",
    "plt.axhline(0,c='b',linestyle=':')\n",
    "plt.ylim(-1.5,1.5)\n",
    "plt.scatter(x_on2, y_on2, s=40, label=\"trainings data\")     #size of point\n",
    "plt.scatter(np.linspace(-1,1,size), np.array(preds_relu_sin), s=3, label=\"predictions (relu)\")\n",
    "plt.legend(prop={'size': 14});"
   ]
  },
  {
   "cell_type": "markdown",
   "metadata": {
    "slideshow": {
     "slide_type": "slide"
    }
   },
   "source": [
    "#### Target function - (2)\n",
    "\n",
    "$$\n",
    "y = \\sin x\n",
    "$$\n",
    "\n",
    "##### Activation: RBF"
   ]
  },
  {
   "cell_type": "code",
   "execution_count": 21,
   "metadata": {
    "ExecuteTime": {
     "end_time": "2021-03-13T09:02:24.076392Z",
     "start_time": "2021-03-13T09:02:17.728454Z"
    },
    "slideshow": {
     "slide_type": "skip"
    }
   },
   "outputs": [],
   "source": [
    "set_seed(123)\n",
    "model_rbf_sin = tf.keras.Sequential()\n",
    "model_rbf_sin.add(tf.keras.layers.Dense(2,activation=rbf))\n",
    "model_rbf_sin.add(tf.keras.layers.Dense(1))\n",
    "# model.metrics_names\n",
    "\n",
    "model_rbf_sin.compile(loss='mean_squared_error', optimizer=tf.keras.optimizers.Adam(0.01))\n",
    "model_rbf_sin.fit(x_on2,y_on2, epochs=1500, verbose=0)\n",
    "\n",
    "# model_rbf.get_weights()\n",
    "\n",
    "weight_rbf_sin = model_rbf_sin.get_weights()\n",
    "bdry_sin = []\n",
    "\n",
    "for i in range(weight_rbf_sin[0].shape[1]):\n",
    "    val1 = (-2-weight_rbf_sin[1][i])/weight_rbf_sin[0][0,i]\n",
    "    val2 = (2-weight_rbf_sin[1][i])/weight_rbf_sin[0][0,i]\n",
    "    bdry_sin.append((min(val1,val2),max(val1,val2)))    #bdry.append((val,i,'left'))\n",
    "        \n",
    "# bdry_arr = np.array(sorted(bdry))\n",
    "\n",
    "def overlap(interval1,interval2):\n",
    "    if max(interval1[0],interval2[0]) < min(interval1[1],interval2[1]):\n",
    "        return [max(interval1[0],interval2[0]), min(interval1[1],interval2[1])]\n",
    "    else:\n",
    "        return []\n",
    "    \n",
    "def piece_rbf(weight,i,x):\n",
    "    b1 = weight[1][i]\n",
    "    w1 = weight[0][0,i]\n",
    "    val = rbf(w1*x+b1).numpy()\n",
    "    return (weight[2][i])*val"
   ]
  },
  {
   "cell_type": "code",
   "execution_count": 22,
   "metadata": {
    "ExecuteTime": {
     "end_time": "2021-03-13T09:02:30.328815Z",
     "start_time": "2021-03-13T09:02:24.079220Z"
    },
    "slideshow": {
     "slide_type": "fragment"
    }
   },
   "outputs": [
    {
     "data": {
      "image/png": "[encoded data removed]",
      "text/plain": [
       "<Figure size 720x360 with 2 Axes>"
      ]
     },
     "metadata": {
      "needs_background": "light"
     },
     "output_type": "display_data"
    }
   ],
   "source": [
    "fig = plt.figure(figsize=(10,5))\n",
    "plt.subplot(121)\n",
    "for i in range(2):\n",
    "    interval = overlap([-1,1],bdry_sin[i])\n",
    "    if len(interval)!=0:\n",
    "        x = np.linspace(interval[0],interval[1],20)\n",
    "        plt.plot(x, [piece_rbf(weight_rbf_sin,i,val) for val in x], label=str(i)+'th neuron',linewidth=4)\n",
    "plt.xlim(-1,1)\n",
    "plt.ylim(-2,2)\n",
    "plt.axhline(0,c='b',linestyle=':')\n",
    "plt.title('After Scaling',fontsize=15)\n",
    "plt.legend(prop={'size': 10}); \n",
    "\n",
    "plt.subplot(122)\n",
    "preds_rbf_sin = []\n",
    "size = 100\n",
    "for j in np.linspace(-1,1,size):\n",
    "    preds_rbf_sin.append(model_rbf_sin.predict([j]))\n",
    "p = tf.reshape(tf.constant(preds_rbf_sin),len(preds_rbf_sin))\n",
    "error = tf.keras.losses.MSE(np.sin(np.pi*x_on2),p).numpy()\n",
    "plt.title('MSE=%.8f'%(error),fontsize=15)\n",
    "plt.axhline(0,c='b',linestyle=':')\n",
    "plt.scatter(x_on2, y_on2, s=40, label=\"trainings data\")     #size of point\n",
    "plt.scatter(np.linspace(-1,1,size), np.array(preds_rbf_sin), s=2, label=\"predictions (rbf)\")\n",
    "plt.ylim(-2,2)\n",
    "plt.legend(prop={'size': 14});"
   ]
  },
  {
   "cell_type": "markdown",
   "metadata": {
    "slideshow": {
     "slide_type": "slide"
    }
   },
   "source": [
    "### Decision from cross-validation\n",
    "\n",
    "Some rules online:\n",
    "$$\n",
    "N = \\frac{N_{\\text{training sample size}}}{a*(N_{\\text{# of input neurons}} + N_{\\text{# of output neurons}})}\n",
    "$$\n",
    "\n",
    "$a\\in [2,10]$"
   ]
  },
  {
   "cell_type": "markdown",
   "metadata": {
    "slideshow": {
     "slide_type": "slide"
    }
   },
   "source": [
    "Ideally, \n",
    "\n",
    "<center> \n",
    "    \n",
    "    More neurons are better\n",
    "\n",
    "    More epochs are better\n",
    "</center>\n",
    "    \n",
    " Due to\n",
    "- limited knowledge of the unknown model, \n",
    "- limited computing power, etc, \n",
    "     \n",
    "Try cross-validation."
   ]
  },
  {
   "cell_type": "markdown",
   "metadata": {
    "slideshow": {
     "slide_type": "slide"
    }
   },
   "source": [
    "#### Target function - 1\n",
    "\n",
    "$$\n",
    "y = \n",
    "\\begin{cases}\n",
    "e^{x}-1 & x\\leq 0,\\\\\n",
    "\\sin x & x>0.\n",
    "\\end{cases}\n",
    "$$"
   ]
  },
  {
   "cell_type": "code",
   "execution_count": 23,
   "metadata": {
    "ExecuteTime": {
     "end_time": "2021-03-13T09:02:30.351907Z",
     "start_time": "2021-03-13T09:02:30.338983Z"
    },
    "slideshow": {
     "slide_type": "skip"
    }
   },
   "outputs": [],
   "source": [
    "hid_ls = np.arange(1,11)\n",
    "epo_ls = 10*np.arange(1,11)\n",
    "\n",
    "def generate_plot(coef_train, coef_test):\n",
    "    score_all = np.zeros((len(hid_ls),len(epo_ls)))\n",
    "\n",
    "    for i in range(len(hid_ls)):\n",
    "        filename = 'Data/new_1%s1_split_MSE0.mat'%(hid_ls[i])\n",
    "        partial_data = sio.loadmat(filename)\n",
    "        score_all[i] = coef_train*partial_data['train'] + coef_test*partial_data['test']    #formula to compute score\n",
    "    \n",
    "    fig = plt.figure(figsize=(8,5.5))\n",
    "    for i in range(len(hid_ls)):\n",
    "        plt.semilogy(epo_ls, score_all[i,:], linewidth=3, label='%d'%(hid_ls[i]))\n",
    "    plt.xticks(epo_ls,fontsize=13, rotation=0)\n",
    "    plt.yticks(fontsize=13, rotation=0)\n",
    "    plt.xlabel('Number of epochs',fontsize=20)\n",
    "    plt.ylabel('MSE',fontsize=20)\n",
    "    plt.legend();"
   ]
  },
  {
   "cell_type": "code",
   "execution_count": 24,
   "metadata": {
    "ExecuteTime": {
     "end_time": "2021-03-13T09:02:31.189708Z",
     "start_time": "2021-03-13T09:02:30.369445Z"
    },
    "slideshow": {
     "slide_type": "fragment"
    }
   },
   "outputs": [
    {
     "data": {
      "application/vnd.jupyter.widget-view+json": {
       "model_id": "b9c85e6c96884b718c4eab218b11629f",
       "version_major": 2,
       "version_minor": 0
      },
      "text/plain": [
       "interactive(children=(FloatSlider(value=0.5, description='Train:', max=1.0), FloatSlider(value=0.5, descriptio…"
      ]
     },
     "metadata": {},
     "output_type": "display_data"
    }
   ],
   "source": [
    "interact(generate_plot, \n",
    "         coef_train = widgets.FloatSlider(value=0.5,min=0,max=1.0,step=0.1,description='Train:',),\n",
    "         coef_test = widgets.FloatSlider(value=0.5,min=0,max=1.0,step=0.1,description='Test:',));"
   ]
  },
  {
   "cell_type": "markdown",
   "metadata": {
    "slideshow": {
     "slide_type": "slide"
    }
   },
   "source": [
    "#### Target function - 2\n",
    "\n",
    "$$\n",
    "y = (x+3)(x-1)^2\n",
    "$$"
   ]
  },
  {
   "cell_type": "code",
   "execution_count": 25,
   "metadata": {
    "ExecuteTime": {
     "end_time": "2021-03-13T09:02:31.209325Z",
     "start_time": "2021-03-13T09:02:31.194771Z"
    },
    "slideshow": {
     "slide_type": "skip"
    }
   },
   "outputs": [],
   "source": [
    "def generate_plot2(coef_train, coef_test):\n",
    "    score_all = np.zeros((len(hid_ls),len(epo_ls)))\n",
    "\n",
    "    for i in range(len(hid_ls)):\n",
    "        filename = 'Data/poly_1%s1_split_MSE0.mat'%(hid_ls[i])\n",
    "        partial_data = sio.loadmat(filename)\n",
    "        score_all[i] = coef_train*partial_data['train'] + coef_test*partial_data['test']    #formula to compute score\n",
    "    \n",
    "    fig = plt.figure(figsize=(8,5.5))\n",
    "    for i in range(len(hid_ls)):\n",
    "        plt.semilogy(epo_ls, score_all[i,:], linewidth=3, label='%d'%(hid_ls[i]))\n",
    "    plt.xticks(epo_ls,fontsize=13, rotation=0)\n",
    "    plt.yticks(fontsize=13, rotation=0)\n",
    "    plt.xlabel('Number of epochs',fontsize=20)\n",
    "    plt.ylabel('MSE',fontsize=20)\n",
    "    plt.legend();"
   ]
  },
  {
   "cell_type": "code",
   "execution_count": 26,
   "metadata": {
    "ExecuteTime": {
     "end_time": "2021-03-13T09:02:31.739036Z",
     "start_time": "2021-03-13T09:02:31.214628Z"
    },
    "slideshow": {
     "slide_type": "fragment"
    }
   },
   "outputs": [
    {
     "data": {
      "application/vnd.jupyter.widget-view+json": {
       "model_id": "deb9f9b6229a4d31ba42983d868c3c2c",
       "version_major": 2,
       "version_minor": 0
      },
      "text/plain": [
       "interactive(children=(FloatSlider(value=0.5, description='Train:', max=1.0), FloatSlider(value=0.5, descriptio…"
      ]
     },
     "metadata": {},
     "output_type": "display_data"
    }
   ],
   "source": [
    "interact(generate_plot2, \n",
    "         coef_train = widgets.FloatSlider(value=0.5,min=0,max=1.0,step=0.1,description='Train:',),\n",
    "         coef_test = widgets.FloatSlider(value=0.5,min=0,max=1.0,step=0.1,description='Test:',));"
   ]
  },
  {
   "cell_type": "markdown",
   "metadata": {
    "slideshow": {
     "slide_type": "skip"
    }
   },
   "source": [
    "#### Target function - 3\n",
    "\n",
    "$$\n",
    "y = \\sin x\n",
    "$$"
   ]
  },
  {
   "cell_type": "code",
   "execution_count": 27,
   "metadata": {
    "ExecuteTime": {
     "end_time": "2021-03-13T09:02:31.760804Z",
     "start_time": "2021-03-13T09:02:31.744947Z"
    },
    "slideshow": {
     "slide_type": "skip"
    }
   },
   "outputs": [],
   "source": [
    "# def generate_plot3(coef_train, coef_test):\n",
    "#     score_all = np.zeros((len(hid_ls),len(epo_ls)))\n",
    "\n",
    "#     for i in range(len(hid_ls)):\n",
    "#         filename = '../DNN/Data/sin_1%s1_split_MSE0.mat'%(hid_ls[i])\n",
    "#         partial_data = sio.loadmat(filename)\n",
    "#         score_all[i] = coef_train*partial_data['train'] + coef_test*partial_data['test']    #formula to compute score\n",
    "    \n",
    "#     fig = plt.figure(figsize=(8,5.5))\n",
    "#     for i in range(len(hid_ls)):\n",
    "#         plt.semilogy(epo_ls, score_all[i,:], linewidth=3, label='%d'%(hid_ls[i]))\n",
    "#     plt.xticks(epo_ls,fontsize=13, rotation=0)\n",
    "#     plt.yticks(fontsize=13, rotation=0)\n",
    "#     plt.xlabel('Number of epochs',fontsize=20)\n",
    "#     plt.ylabel('MSE ($y=\\sin x$)',fontsize=20)\n",
    "#     plt.legend();"
   ]
  },
  {
   "cell_type": "code",
   "execution_count": 28,
   "metadata": {
    "ExecuteTime": {
     "end_time": "2021-03-13T09:02:31.776923Z",
     "start_time": "2021-03-13T09:02:31.764309Z"
    },
    "slideshow": {
     "slide_type": "skip"
    }
   },
   "outputs": [],
   "source": [
    "# interact(generate_plot3, \n",
    "#          coef_train = widgets.FloatSlider(value=0.5,min=0,max=1.0,step=0.1,description='Train:',),\n",
    "#          coef_test = widgets.FloatSlider(value=0.5,min=0,max=1.0,step=0.1,description='Test:',));"
   ]
  },
  {
   "cell_type": "markdown",
   "metadata": {
    "slideshow": {
     "slide_type": "slide"
    }
   },
   "source": [
    "<center>\n",
    "    <font size='10'> Thank You"
   ]
  }
 ],
 "metadata": {
  "celltoolbar": "Slideshow",
  "kernelspec": {
   "display_name": "Python 3",
   "language": "python",
   "name": "python3"
  },
  "language_info": {
   "codemirror_mode": {
    "name": "ipython",
    "version": 3
   },
   "file_extension": ".py",
   "mimetype": "text/x-python",
   "name": "python",
   "nbconvert_exporter": "python",
   "pygments_lexer": "ipython3",
   "version": "3.6.7"
  },
  "toc": {
   "base_numbering": 1,
   "nav_menu": {},
   "number_sections": true,
   "sideBar": true,
   "skip_h1_title": false,
   "title_cell": "Table of Contents",
   "title_sidebar": "Contents",
   "toc_cell": false,
   "toc_position": {},
   "toc_section_display": true,
   "toc_window_display": false
  }
 },
 "nbformat": 4,
 "nbformat_minor": 4
}
